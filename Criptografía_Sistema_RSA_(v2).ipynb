{
  "nbformat": 4,
  "nbformat_minor": 0,
  "metadata": {
    "colab": {
      "provenance": [],
      "toc_visible": true,
      "authorship_tag": "ABX9TyM3cW5YyAJ0hLFyGj0XQMQI",
      "include_colab_link": true
    },
    "kernelspec": {
      "name": "python3",
      "display_name": "Python 3"
    },
    "language_info": {
      "name": "python"
    }
  },
  "cells": [
    {
      "cell_type": "markdown",
      "metadata": {
        "id": "view-in-github",
        "colab_type": "text"
      },
      "source": [
        "<a href=\"https://colab.research.google.com/github/javiersago/colab/blob/main/Criptograf%C3%ADa_Sistema_RSA_(v2).ipynb\" target=\"_parent\"><img src=\"https://colab.research.google.com/assets/colab-badge.svg\" alt=\"Open In Colab\"/></a>"
      ]
    },
    {
      "cell_type": "markdown",
      "source": [
        "# **Sistema criptográfico RSA**\n",
        "\n",
        "#### **Javier Salido, 2022**\n",
        "#### Departamento de Tecnología e Informática.<br>IES Francisco de los Cobos, Úbeda (Jaén)\n",
        "\n",
        "Referencias:\n",
        "\n",
        "* [1] Hernández, L. (2016) *La criptografía*. Colección: ¿Qué sabemos de? CSIC - Catarata.\n",
        "* [2] Wikipedia. *RSA*. https://es.wikipedia.org/wiki/RSA\n"
      ],
      "metadata": {
        "id": "eJEJGh7nHWm9"
      }
    },
    {
      "cell_type": "markdown",
      "source": [
        "# El criptosisitema RSA\n",
        "\n",
        "El criptosistema RSA (Rivest, Shamir y Adleman) es uno de los sistemas de **cifrado asimétrico** más utilizados en la actualidad. Se emplea principalmente para:\n",
        "* Cifrar mensajes y archivos.\n",
        "* Firmar digitalmente documentos.\n",
        "\n",
        "RSA consta de tres procedimientos:\n",
        "* Generación de claves.\n",
        "* Cifrado.\n",
        "* Descifrado."
      ],
      "metadata": {
        "id": "Fou6BuGMI6Qt"
      }
    },
    {
      "cell_type": "markdown",
      "source": [
        "# Generación de claves RSA\n",
        "\n",
        "La generación de claves es un procedimiento sencillo y eficiente. Este **protocolo de generación de claves** ejecuta los siguientes pasos:\n",
        "\n",
        "1. Buscar dos números primos, $p$ y $q$, con $p \\neq q$ (en la práctica $p$ y $q$ deben ser *muy grandes*, de 1024 o 2048 bits o más para una seguridad adecuada).\n",
        "\n",
        "2. Calcular $n = p \\cdot q$ (cuyo número de bits será la suma de los de $p$ y $q$). El número $n$ se denomina **módulo RSA**.\n",
        "\n",
        "3. Determinar el valor del indicador de Euler, $\\varphi(n) = (p-1)(q-1)$, que es el número de elementos del grupo $\\mathbb Z^*_n$.\n",
        "\n",
        "4. Elegir un entero positivo, $e$, tal que $1 < e < \\varphi(n)$, que sea primo relativo de $\\varphi(n)$, es decir, que $\\mathrm{mcd}(e, \\varphi(n))=1$. El número $e$ será el **exponente de cifrado**.\n",
        "\n",
        "5. Calcular el inverso de $e$ módulo $\\varphi(n)$, es decir, el único número $d$ que cumple: $e \\cdot d \\equiv 1 \\pmod {\\varphi(n)}$. El número $d$ será el **exponente de descifrado**.\n",
        "\n",
        "La **clave pública** es el par de números $(n,e)$ y la **clave privada** es $(n, d)$. Por cuestiones de seguridad, es decir, para proteger la clave privada, los números $p$, $q$ y $\\varphi(n)$ se mantienen en secreto.\n",
        "\n",
        "> **Nota:** $\\mathbb Z^*_n$ es el subconjunto de $\\mathbb Z_n$ formado por los números que tienen inverso. Cuando $n$ es primo, el número de elementos de $\\mathbb Z^*_n$ es $\\varphi(n) = (n-1)$, pero si $n$ no es primo, $\\varphi(n)$ es más difícil de calcular, dado que hay que calcular todos los números que son primos relativos de $n$."
      ],
      "metadata": {
        "id": "vePbt2tyJfoE"
      }
    },
    {
      "cell_type": "code",
      "source": [
        "import math\n",
        "\n",
        "# GENERACIÓN DE CLAVES RSA\n",
        "\n",
        "# Elegimos dos números primos (pequeños para nuestro ejemplo)\n",
        "p = 11\n",
        "q = 23\n",
        "\n",
        "print(f'p = {p}')\n",
        "print(f'q = {q}')\n",
        "\n",
        "# Calculamos n y el indicador de Euler\n",
        "n = p*q\n",
        "phi = (p - 1)*(q - 1)\n",
        "\n",
        "print(f'n = {n}')\n",
        "print(f'φ(n) = {phi}')\n",
        "\n",
        "# Buscamos el primer valor 'e' válido (exponente de cifrado)\n",
        "# (También se prodría buscar alearotiamente)\n",
        "encontrado = False\n",
        "e = 2\n",
        "while not encontrado:\n",
        "  if math.gcd(e, phi) == 1:\n",
        "    encontrado = True\n",
        "  else:\n",
        "    e = e + 1\n",
        "\n",
        "print(f'e = {e}')\n",
        "\n",
        "# Calculamos el inverso de 'e', 'd'(exponente de descifrado)\n",
        "# Resolvemos la congruencia para calcular el inverso de 'e' en módulo phi(n)\n",
        "# e·d ≡ 1 (mod φ) --> d = (1 + φ·k) / e\n",
        "# Recordar: a ≡ b (mod n) --> a = b + m·k, con k entero.\n",
        "def inv(a, b):\n",
        "  k = 1\n",
        "  fin = False\n",
        "  while not fin:\n",
        "    if ((1 + b*k) % a) == 0:\n",
        "      c = (1 + b*k) // a\n",
        "      fin = True\n",
        "    k = k + 1\n",
        "\n",
        "  return c\n",
        "\n",
        "d = inv(e, phi)\n",
        "print(f'd = {d}')\n",
        "\n",
        "# Mostramos las claves de cifrado\n",
        "print(f'Clave pública: (n,e) = ({n},{e})')\n",
        "print(f'Clave privada: (n,d) = ({n},{d})')"
      ],
      "metadata": {
        "id": "pEyLHniwKxx9",
        "colab": {
          "base_uri": "https://localhost:8080/"
        },
        "outputId": "60d1e15e-67bd-4f90-e158-db6ca76cc367"
      },
      "execution_count": null,
      "outputs": [
        {
          "output_type": "stream",
          "name": "stdout",
          "text": [
            "p = 11\n",
            "q = 23\n",
            "n = 253\n",
            "φ(n) = 220\n",
            "e = 3\n",
            "d = 147\n",
            "Clave pública: (n,e) = (253,3)\n",
            "Clave privada: (n,d) = (253,147)\n"
          ]
        }
      ]
    },
    {
      "cell_type": "markdown",
      "source": [
        "# Cifrado de un mensaje\n",
        "\n",
        "Para cifrar un mensaje se seguirá el siguiente **protocolo de cifrado**:\n",
        "\n",
        "1. Pedir al destinatario del mensaje su clave pública $(n,e)$.\n",
        "\n",
        "2. Codificar adecuadamente el mensaje para transformarlo en un elemento de $\\mathbb Z^*_n$. Así, el mensaje codificado, $m$, tendrá un valor comprendido entre $1$ y $n-1$.\n",
        "\n",
        "3. Obtener el mensaje cifrado, $c$, calculando $c \\equiv m^e \\pmod n$.\n",
        "\n",
        "4. Enviar el mensaje cifrado, $c$, al destinatario.\n",
        "\n",
        "* Operación de cifrado usando la clave pública: $c = m^e \\: \\mathrm{mod}\\: n$\n",
        "\n",
        "\n",
        "> Para nuestro ejemplo y por simplicidad, emplearemos el código ASCII estándar (7 bits; 128 caracteres, del 0 al 127) para codificar los mensajes. El valor ASCII de cada caracter del mensaje será nuestro $m$. Esta elección se justifica porque $128 \\leq n$. Los mensajes cifrados sí podrán tener códigos ASCII mayores que 128 (entre 0 y $n-1$), entrando ya en el código ASCII extendido (8 bits; 256 caracteres, del 0 al 255)."
      ],
      "metadata": {
        "id": "kskKn2CJT-C-"
      }
    },
    {
      "cell_type": "code",
      "source": [
        "# CIFRADO DEL MENSAJE\n",
        "\n",
        "# Texto a cifrar\n",
        "texto_claro = 'Demasiados secretos'\n",
        "\n",
        "# Convertir los caracteres del texto a sus códigos correspondientes:\n",
        "codigos = []\n",
        "for caracter in texto_claro:\n",
        "  m = ord(caracter)\n",
        "  codigos.append(m)\n",
        "\n",
        "# Ciframos el mensaje con la clave pública:\n",
        "cifrado = []\n",
        "for m in codigos:\n",
        "  c = (m**e) % n\n",
        "  cifrado.append(c)\n",
        "\n",
        "# Obtenemos el texto cifrado\n",
        "texto_cifrado = ''\n",
        "for c in cifrado:\n",
        "  texto_cifrado = texto_cifrado + chr(c)\n",
        "\n",
        "print('Mensaje original:  ', texto_claro)\n",
        "print('Códigos:           ', codigos)\n",
        "print('Cifrado:           ', cifrado)\n",
        "print('Mensaje cifrado:   ', texto_cifrado)"
      ],
      "metadata": {
        "colab": {
          "base_uri": "https://localhost:8080/"
        },
        "outputId": "bbaf81b6-9e86-4aa4-d3ec-dd6c1975eb0f",
        "id": "p3bUitmEZaw1"
      },
      "execution_count": null,
      "outputs": [
        {
          "output_type": "stream",
          "name": "stdout",
          "text": [
            "Mensaje original:   Demasiados secretos\n",
            "Códigos:            [68, 101, 109, 97, 115, 105, 97, 100, 111, 115, 32, 115, 101, 99, 114, 101, 116, 111, 115]\n",
            "Cifrado:            [206, 85, 175, 102, 92, 150, 102, 144, 166, 92, 131, 92, 85, 44, 229, 85, 139, 166, 92]\n",
            "Mensaje cifrado:    ÎU¯f\\f¦\\\\U,åU¦\\\n"
          ]
        }
      ]
    },
    {
      "cell_type": "markdown",
      "source": [
        "# Descifrado de un mensaje\n",
        "\n",
        "Cuando el destinatario recibe el nebsaje cifrado, $c$, aplicará el siguiente **protocolo de descifrado**:\n",
        "\n",
        "1. Calcular $m$ mediante $m \\leftarrow c^d \\: \\mathrm{mod}\\: n$ (como $e$ y $d$ son inversos en módulo $\\varphi(n)$, se cumple que $c^d \\pmod n \\equiv (m^e)^d \\pmod n \\equiv m^{e \\cdot d} \\pmod n \\equiv m)$\n",
        "\n",
        "2. Descodificar $m$ para obtener el mensaje original."
      ],
      "metadata": {
        "id": "JAqmUVDCb5TM"
      }
    },
    {
      "cell_type": "code",
      "source": [
        "# DESCIFRADO DEL MENSAJE\n",
        "\n",
        "# Desciframos el mensaje con la clave privada\n",
        "descifrado = []\n",
        "for c in cifrado:\n",
        "  m = (c**d) % n\n",
        "  descifrado.append(m)\n",
        "\n",
        "# Recuperamos el texto\n",
        "texto_claro = ''\n",
        "for m in descifrado:\n",
        "  texto_claro = texto_claro + chr(m)\n",
        "\n",
        "print('Mensaje cifrado:   ', texto_cifrado)\n",
        "print('Descifrado:        ', descifrado)\n",
        "print('Mensaje recuperado:', texto_claro)"
      ],
      "metadata": {
        "colab": {
          "base_uri": "https://localhost:8080/"
        },
        "id": "7MBvJKNxcBJm",
        "outputId": "ea13209a-5a13-463d-f1af-9d17393f19b0"
      },
      "execution_count": null,
      "outputs": [
        {
          "output_type": "stream",
          "name": "stdout",
          "text": [
            "Mensaje cifrado:    ÎU¯f\\f¦\\\\U,åU¦\\\n",
            "Descifrado:         [68, 101, 109, 97, 115, 105, 97, 100, 111, 115, 32, 115, 101, 99, 114, 101, 116, 111, 115]\n",
            "Mensaje recuperado: Demasiados secretos\n"
          ]
        }
      ]
    },
    {
      "cell_type": "markdown",
      "source": [
        "# Observaciones finales y conclusiones\n",
        "\n",
        "* Se puede observar que la implementación de los protocolos de cifrado y descifrado es esencialmente la misma, dado que ambas emplean las mismas operaciones matemáticas. Lo único que cambian son los exponentes. De aquí deducimos que ambos exponentes se pueden usar indistintamente para cifrar y descifrar. De hecho, para cifrar mensajes se usan como hemos visto pero para la firma digital se cifra con la clave privada y se descifra con la pública.\n",
        "\n",
        "* Además de la facilidad de implementación y de la seguridad que ofrece, el algoritmo de cifrado/descifrado es muy efeciente si se implementa adecuadamente.\n",
        "\n",
        "* El criptosistema RSA presenta una dificultad, la de determinar números primos grandes, lo cual requiere bastante tiempo de computación. Esto se conoce como el *problema de la primalidad*. En la práctica se revuelve haciendo uso de Test de Miller-Rabin que garantiza de números impares generados aleatoriamente pueden ser primos con una probabilidad del orden del 99,9999%.\n",
        "\n",
        "* El problema matemático que garantiza la seguridad del criptosistema RSA es el **problema de la factorización de números enteros**, que consiste en calcular la descomposición en factores primos de un número compuesto. Este problema se considera, hoy en día, como uno de los más difíciles de resolver si el número a factorizar se elige convenientemente. Muchos números son fáciles de factorizar, basta con que sean *pequeños* o tengan muchos factores primos. Sin embargo, si el número a factorizar es *grande* y tiene pocos factores, la complejidad computacional es muy elevada.<br>\n",
        "Según lo anterior, si se pudiera descomponer fácilmente $n$ (conocido) en $p$ y $q$, como el valor $e$ es conocido y $\\varphi(n)$ se podría calcular fácilmente, se podría determinar $d$ por el algoritmo de Euclides y el sistema quedaría vulnerado."
      ],
      "metadata": {
        "id": "VFFq55erS2jt"
      }
    },
    {
      "cell_type": "markdown",
      "source": [
        "# Anexo\n",
        "\n",
        "* Observación: al codificar sólo un caracter en vez de un bloque de ellos (como se hace en la práctica), el cifrado obtenido en ejemplo estudiado no se diferencia en nada de un cifrado César, por lo que podría romperse con las mismas técnicas de criptoanálisis.\n",
        "\n",
        "* Las claves pública y privada en binario y hexadecimal:"
      ],
      "metadata": {
        "id": "xJMU-toek2th"
      }
    },
    {
      "cell_type": "code",
      "source": [
        "# Clave pública\n",
        "publica = n*256 +e\n",
        "print('Clave pública (16 bits):', '{:016b}'.format(publica), '|', '{:04x}'.format(publica))\n",
        "\n",
        "# Clave privada\n",
        "privada = n*256 + d\n",
        "print('Clave privada (16 bits):', '{:016b}'.format(privada), '|', '{:04x}'.format(privada))"
      ],
      "metadata": {
        "colab": {
          "base_uri": "https://localhost:8080/"
        },
        "id": "_HF_r3Iqly76",
        "outputId": "baa4abdc-6367-4871-828a-cf9447d8c168"
      },
      "execution_count": null,
      "outputs": [
        {
          "output_type": "stream",
          "name": "stdout",
          "text": [
            "Clave pública (16 bits): 1111110100000011 | fd03\n",
            "Clave privada (16 bits): 1111110110010011 | fd93\n"
          ]
        }
      ]
    }
  ]
}